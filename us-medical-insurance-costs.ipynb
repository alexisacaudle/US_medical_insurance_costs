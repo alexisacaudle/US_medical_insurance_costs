{
 "cells": [
  {
   "cell_type": "markdown",
   "metadata": {},
   "source": [
    "# U.S. Medical Insurance Costs"
   ]
  },
  {
   "cell_type": "markdown",
   "metadata": {},
   "source": [
    "Goals:\n",
    "- What is the average cost for individuals who have children vs individuals who do not?\n",
    "- Which region has the highest average cost?\n",
    "- What is the average cost for smokers vs non-smokers?\n",
    "- Which sex pays the most insurance cost on average?"
   ]
  },
  {
   "cell_type": "code",
   "execution_count": 312,
   "metadata": {
    "scrolled": true
   },
   "outputs": [],
   "source": [
    "import csv\n",
    "\n",
    "insurance_data = {}\n",
    "\n",
    "with open('insurance.csv') as file:\n",
    "    insurance_reader = csv.DictReader(file)\n",
    "    \n",
    "    for index, row in enumerate(insurance_reader):\n",
    "        insurance_data[index] = {\n",
    "            'age': int(row['age']),\n",
    "            'sex': row['sex'],\n",
    "            'children': int(row['children']),\n",
    "            'smoker': row['smoker'],\n",
    "            'region': row['region'],\n",
    "            'charges': float(row['charges'])\n",
    "        }\n",
    "    #print(insurance_data)"
   ]
  },
  {
   "cell_type": "markdown",
   "metadata": {},
   "source": [
    "## What is the average cost for individuals who have children vs individuals who do not?"
   ]
  },
  {
   "cell_type": "code",
   "execution_count": 299,
   "metadata": {},
   "outputs": [
    {
     "name": "stdout",
     "output_type": "stream",
     "text": [
      "The average insurance cost for someone with children is $13950.\n",
      "The average insurance cost for someone with no children is $12366.\n",
      "That is a $1584 difference.\n"
     ]
    }
   ],
   "source": [
    "has_children = {}\n",
    "no_children = {}\n",
    "\n",
    "for key, row in insurance_data.items():\n",
    "    if row['children'] > 0:\n",
    "        has_children[key] = row\n",
    "    else:\n",
    "        no_children[key] = row\n",
    "\n",
    "total_charges_with_children = 0\n",
    "total_charges_without_children = 0\n",
    "for row in has_children.values():\n",
    "    total_charges_with_children += row['charges']\n",
    "\n",
    "for row in no_children.values():\n",
    "    total_charges_without_children += row['charges']\n",
    "\n",
    "average_charges_with_children = round(total_charges_with_children / len(has_children))\n",
    "average_charges_without_children = round(total_charges_without_children / len(no_children))\n",
    "print(f'The average insurance cost for someone with children is ${average_charges_with_children}.')\n",
    "print(f'The average insurance cost for someone with no children is ${average_charges_without_children}.')\n",
    "print(f'That is a ${average_charges_with_children - average_charges_without_children} difference.')"
   ]
  },
  {
   "cell_type": "markdown",
   "metadata": {},
   "source": [
    "## Which region has the highest average cost?"
   ]
  },
  {
   "cell_type": "code",
   "execution_count": 301,
   "metadata": {},
   "outputs": [
    {
     "name": "stdout",
     "output_type": "stream",
     "text": [
      "Average charges for southwest: 12347\n",
      "Average charges for southeast: 14735\n",
      "Average charges for northwest: 12418\n",
      "Average charges for northeast: 13406\n",
      "The region with the highest average charges is southeast with an average charge of 14735\n"
     ]
    }
   ],
   "source": [
    "region_groups = {}\n",
    "\n",
    "for index, row in insurance_data.items():\n",
    "    region = row['region']\n",
    "    if region not in region_groups:\n",
    "        region_groups[region] = []\n",
    "    region_groups[region].append(row)\n",
    "\n",
    "region_avg_charges = {}\n",
    "highest_region = None\n",
    "highest_avg_region_charges = 0\n",
    "\n",
    "for region, rows in region_groups.items():\n",
    "    total_charges = 0\n",
    "    for row in rows:\n",
    "        total_charges += row['charges']\n",
    "    average_charges = round(total_charges / len(rows))\n",
    "    region_avg_charges[region] = average_charges\n",
    "\n",
    "    if average_charges > highest_avg_region_charges:\n",
    "        highest_avg_region_charges = average_charges\n",
    "        highest_region = region\n",
    "\n",
    "for region, average_charges in region_avg_charges.items():\n",
    "    print(f\"Average charges for {region}: {average_charges}\")\n",
    "\n",
    "print(f\"The region with the highest average charges is {highest_region} with an average charge of {highest_avg_region_charges}\")"
   ]
  },
  {
   "cell_type": "markdown",
   "metadata": {},
   "source": [
    "## What is the average cost for smokers vs non-smokers?"
   ]
  },
  {
   "cell_type": "code",
   "execution_count": 303,
   "metadata": {},
   "outputs": [
    {
     "name": "stdout",
     "output_type": "stream",
     "text": [
      "The average insurance cost for a smoker is $32050.\n",
      "The average insurance cost for a non smoker is $8434.\n",
      "That is a $23616 difference.\n"
     ]
    }
   ],
   "source": [
    "smokers = {}\n",
    "nonsmokers = {}\n",
    "\n",
    "for key, row in insurance_data.items():\n",
    "    if row['smoker'] == 'yes':\n",
    "        smokers[key] = row\n",
    "    else:\n",
    "        nonsmokers[key] = row\n",
    "\n",
    "smokers_total_charges = 0\n",
    "nonsmokers_total_charges = 0\n",
    "\n",
    "for row in smokers.values():\n",
    "    smokers_total_charges += row['charges']\n",
    "\n",
    "for row in nonsmokers.values():\n",
    "    nonsmokers_total_charges += row['charges']\n",
    "\n",
    "smoker_avg_charges = round(smokers_total_charges / len(smokers))\n",
    "nonsmoker_avg_charges = round(nonsmokers_total_charges / len(nonsmokers))\n",
    "\n",
    "print(f'The average insurance cost for a smoker is ${smoker_avg_charges}.')\n",
    "print(f'The average insurance cost for a non smoker is ${nonsmoker_avg_charges}.')\n",
    "print(f'That is a ${smoker_avg_charges - nonsmoker_avg_charges} difference.')"
   ]
  },
  {
   "cell_type": "markdown",
   "metadata": {},
   "source": [
    "## Which sex pays the most insurance cost on average?"
   ]
  },
  {
   "cell_type": "code",
   "execution_count": 305,
   "metadata": {},
   "outputs": [
    {
     "name": "stdout",
     "output_type": "stream",
     "text": [
      "Average charges for female: $12570\n",
      "Average charges for male: $13957\n",
      "The sex with the highest average charges is male.\n",
      "The difference is $1387\n"
     ]
    }
   ],
   "source": [
    "sexes = {}\n",
    "\n",
    "for index, row in insurance_data.items():\n",
    "    sex = row['sex']\n",
    "    if sex not in sexes:\n",
    "        sexes[sex] = []\n",
    "    sexes[sex].append(row)\n",
    "\n",
    "sex_avg_charges = {}\n",
    "highest_sex = None\n",
    "highest_avg_sex_charges = 0\n",
    "\n",
    "for sex, rows in sexes.items():\n",
    "    total_charges = 0\n",
    "    for row in rows:\n",
    "        total_charges += row['charges']\n",
    "    average_charges = round(total_charges / len(rows))\n",
    "    sex_avg_charges[sex] = average_charges\n",
    "\n",
    "    if average_charges > highest_avg_sex_charges:\n",
    "        highest_avg_sex_charges = average_charges\n",
    "        highest_sex = sex\n",
    "\n",
    "for sex, average_charges in sex_avg_charges.items():\n",
    "    print(f\"Average charges for {sex}: ${average_charges}\")\n",
    "\n",
    "print(f\"The sex with the highest average charges is {highest_sex}.\")\n",
    "print(f'The difference is ${sex_avg_charges['male'] - sex_avg_charges['female']}')"
   ]
  },
  {
   "cell_type": "code",
   "execution_count": null,
   "metadata": {},
   "outputs": [],
   "source": []
  }
 ],
 "metadata": {
  "kernelspec": {
   "display_name": "Python [conda env:base] *",
   "language": "python",
   "name": "conda-base-py"
  },
  "language_info": {
   "codemirror_mode": {
    "name": "ipython",
    "version": 3
   },
   "file_extension": ".py",
   "mimetype": "text/x-python",
   "name": "python",
   "nbconvert_exporter": "python",
   "pygments_lexer": "ipython3",
   "version": "3.12.7"
  }
 },
 "nbformat": 4,
 "nbformat_minor": 4
}
